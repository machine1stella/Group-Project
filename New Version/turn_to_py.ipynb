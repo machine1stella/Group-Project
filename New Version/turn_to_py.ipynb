{
 "cells": [
  {
   "cell_type": "code",
   "execution_count": 1,
   "metadata": {},
   "outputs": [],
   "source": [
    "import random\n",
    "import datetime\n",
    "import matplotlib.pyplot as plt\n",
    "import pandas as pd\n",
    "import numpy as np"
   ]
  },
  {
   "cell_type": "code",
   "execution_count": 2,
   "metadata": {},
   "outputs": [],
   "source": [
    "def tabusearch(stop_time,initial_route,candidate_t,tabu_length):\n",
    "    def calcu_cost(route):\n",
    "        distance=0\n",
    "        for i in range(0,28):\n",
    "            distance+=np.linalg.norm(np.array([float(route[i][1][0]),float(route[i][1][1])])-np.array([float(route[i+1][1][0]),float(route[i+1][1][1])]))\n",
    "        distance+=np.linalg.norm(np.array([float(route[0][1][0]),float(route[0][1][1])])-np.array([float(route[28][1][0]),float(route[28][1][1])]))\n",
    "        return distance\n",
    "    def move(route,t):\n",
    "        min_distance=100000\n",
    "        best_route=0\n",
    "        best_change=0\n",
    "        routes=[]\n",
    "        changes=[]\n",
    "        distances=[]\n",
    "        for i in range(t):\n",
    "            route_new=route.copy()\n",
    "            change=random.sample(route_new[1:],2)\n",
    "            change.sort()\n",
    "            route_new[route_new.index(change[1])]=change[0]\n",
    "            route_new[route_new.index(change[0])]=change[1]\n",
    "            routes.append(route_new)\n",
    "            changes.append(change)\n",
    "            distances.append(calcu_cost(route_new))\n",
    "        return(routes,changes,distances)\n",
    "    def add_or_not(move_tabu,distance_tabu,new_move,new_distance):\n",
    "        if new_move not in move_tabu:\n",
    "            return(True)\n",
    "        elif new_distance < distance_tabu[move_tabe.index(new_move)]:\n",
    "            return(True)\n",
    "        else:\n",
    "            return(False)    \n",
    "    def add_tabulist(move_tabu,distance_tabu,new_move,new_distance,tabu_length):\n",
    "        move_tabu.append(new_move)\n",
    "        distance_tabu.append(new_distance)\n",
    "        if len(move_tabu)>tabu_length:\n",
    "            del move_tabu[0]\n",
    "            del distance_tabu[0]\n",
    "        return(move_tabu,distance_tabu)\n",
    "    all_routes=[]\n",
    "    all_distances=[]\n",
    "    move_tabe=[]\n",
    "    distance_tabu=[]\n",
    "    route=initial_route.copy()\n",
    "    for i in range(stop_time):\n",
    "        routes,changes,distances=move(route,candidate_t)\n",
    "        a=0\n",
    "        while a==0:\n",
    "            if add_or_not(move_tabe,distance_tabu,changes[distances.index(min(distances))],min(distances)):\n",
    "                move_tabe,distance_tabu= add_tabulist(move_tabe,distance_tabu,changes[distances.index(min(distances))],min(distances),tabu_length)\n",
    "                all_routes.append(routes[distances.index(min(distances))])\n",
    "                all_distances.append(min(distances))\n",
    "                a=1\n",
    "                route=routes[distances.index(min(distances))]\n",
    "            else:\n",
    "                routes.remove(routes[distances.index(min(distances))])\n",
    "                changes.remove(changes[distances.index(min(distances))])\n",
    "                distances.remove(min(distances))\n",
    "                if len(routes)==0:\n",
    "                    a=1        \n",
    "    return(min(all_distances),all_routes[all_distances.index(min(all_distances))])"
   ]
  },
  {
   "cell_type": "code",
   "execution_count": 3,
   "metadata": {},
   "outputs": [],
   "source": [
    "def parallelfunc(city):\n",
    "    return(tabusearch(stop_time=100,initial_route=city,candidate_t=100,tabu_length=30))"
   ]
  },
  {
   "cell_type": "code",
   "execution_count": 6,
   "metadata": {},
   "outputs": [
    {
     "name": "stderr",
     "output_type": "stream",
     "text": [
      "[NbConvertApp] Converting notebook turn_to_py.ipynb to python\n",
      "[NbConvertApp] Writing 3140 bytes to turn_to_py.py\n"
     ]
    }
   ],
   "source": [
    "try:   \n",
    "    !jupyter nbconvert --to python turn_to_py.ipynb\n",
    "\n",
    "except:\n",
    "    pass"
   ]
  }
 ],
 "metadata": {
  "kernelspec": {
   "display_name": "Python 3",
   "language": "python",
   "name": "python3"
  },
  "language_info": {
   "codemirror_mode": {
    "name": "ipython",
    "version": 3
   },
   "file_extension": ".py",
   "mimetype": "text/x-python",
   "name": "python",
   "nbconvert_exporter": "python",
   "pygments_lexer": "ipython3",
   "version": "3.7.3"
  }
 },
 "nbformat": 4,
 "nbformat_minor": 4
}
