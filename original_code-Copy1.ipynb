{
 "cells": [
  {
   "cell_type": "code",
   "execution_count": 12,
   "metadata": {},
   "outputs": [
    {
     "data": {
      "text/plain": [
       "[[('1', ('1150.0', '1760.0')), ('2', ('630.0', '1660.0'))],\n",
       " [('2', ('630.0', '1660.0')), ('3', ('40.0', '2090.0'))],\n",
       " [('3', ('40.0', '2090.0')), ('4', ('750.0', '1100.0'))],\n",
       " [('4', ('750.0', '1100.0')), ('5', ('750.0', '2030.0'))],\n",
       " [('5', ('750.0', '2030.0')), ('6', ('1030.0', '2070.0'))],\n",
       " [('6', ('1030.0', '2070.0')), ('7', ('1650.0', '650.0'))],\n",
       " [('7', ('1650.0', '650.0')), ('8', ('1490.0', '1630.0'))],\n",
       " [('8', ('1490.0', '1630.0')), ('9', ('790.0', '2260.0'))],\n",
       " [('9', ('790.0', '2260.0')), ('10', ('710.0', '1310.0'))],\n",
       " [('10', ('710.0', '1310.0')), ('11', ('840.0', '550.0'))],\n",
       " [('11', ('840.0', '550.0')), ('12', ('1170.0', '2300.0'))],\n",
       " [('12', ('1170.0', '2300.0')), ('13', ('970.0', '1340.0'))],\n",
       " [('13', ('970.0', '1340.0')), ('14', ('510.0', '700.0'))],\n",
       " [('14', ('510.0', '700.0')), ('15', ('750.0', '900.0'))],\n",
       " [('15', ('750.0', '900.0')), ('16', ('1280.0', '1200.0'))],\n",
       " [('16', ('1280.0', '1200.0')), ('17', ('230.0', '590.0'))],\n",
       " [('17', ('230.0', '590.0')), ('18', ('460.0', '860.0'))],\n",
       " [('18', ('460.0', '860.0')), ('19', ('1040.0', '950.0'))],\n",
       " [('19', ('1040.0', '950.0')), ('20', ('590.0', '1390.0'))],\n",
       " [('20', ('590.0', '1390.0')), ('21', ('830.0', '1770.0'))],\n",
       " [('21', ('830.0', '1770.0')), ('22', ('490.0', '500.0'))],\n",
       " [('22', ('490.0', '500.0')), ('23', ('1840.0', '1240.0'))],\n",
       " [('23', ('1840.0', '1240.0')), ('24', ('1260.0', '1500.0'))],\n",
       " [('24', ('1260.0', '1500.0')), ('25', ('1280.0', '790.0'))],\n",
       " [('25', ('1280.0', '790.0')), ('26', ('490.0', '2130.0'))],\n",
       " [('26', ('490.0', '2130.0')), ('27', ('1460.0', '1420.0'))],\n",
       " [('27', ('1460.0', '1420.0')), ('28', ('1260.0', '1910.0'))],\n",
       " [('28', ('1260.0', '1910.0')), ('29', ('360.0', '1980.0'))],\n",
       " [('29', ('360.0', '1980.0')), ('1', ('1150.0', '1760.0'))]]"
      ]
     },
     "execution_count": 12,
     "metadata": {},
     "output_type": "execute_result"
    }
   ],
   "source": [
    "import random\n",
    "import datetime\n",
    "city = []\n",
    "for line in open(\"tsp.txt\"):\n",
    "    place,lon,lat = line.strip().split(\" \")\n",
    "    city.extend([(place,(lon,lat))])  #input the city location(longitude)\n",
    "def printtravel(vec):\n",
    "    answer=[]\n",
    "    answer.append([city[0],city[vec[0]]])\n",
    "    for i in range(len(vec)-1):\n",
    "        answer.append([city[vec[i]],city[vec[i+1]]])\n",
    "    answer.append([city[vec[i+1]],city[0]])\n",
    "    return(answer)     \n",
    "eg=[i for i in range(1,29)]  #an example\n",
    "printtravel(eg)"
   ]
  },
  {
   "cell_type": "code",
   "execution_count": 13,
   "metadata": {},
   "outputs": [
    {
     "data": {
      "text/plain": [
       "[('3', ('40.0', '2090.0')),\n",
       " ('4', ('750.0', '1100.0')),\n",
       " ('5', ('750.0', '2030.0')),\n",
       " ('6', ('1030.0', '2070.0')),\n",
       " ('7', ('1650.0', '650.0')),\n",
       " ('8', ('1490.0', '1630.0')),\n",
       " ('9', ('790.0', '2260.0')),\n",
       " ('10', ('710.0', '1310.0')),\n",
       " ('11', ('840.0', '550.0')),\n",
       " ('12', ('1170.0', '2300.0')),\n",
       " ('13', ('970.0', '1340.0')),\n",
       " ('14', ('510.0', '700.0')),\n",
       " ('15', ('750.0', '900.0')),\n",
       " ('16', ('1280.0', '1200.0')),\n",
       " ('17', ('230.0', '590.0')),\n",
       " ('18', ('460.0', '860.0')),\n",
       " ('19', ('1040.0', '950.0')),\n",
       " ('20', ('590.0', '1390.0')),\n",
       " ('21', ('830.0', '1770.0')),\n",
       " ('22', ('490.0', '500.0')),\n",
       " ('23', ('1840.0', '1240.0')),\n",
       " ('24', ('1260.0', '1500.0')),\n",
       " ('25', ('1280.0', '790.0')),\n",
       " ('26', ('490.0', '2130.0')),\n",
       " ('27', ('1460.0', '1420.0')),\n",
       " ('28', ('1260.0', '1910.0')),\n",
       " ('29', ('360.0', '1980.0')),\n",
       " ('1', ('1150.0', '1760.0')),\n",
       " ('2', ('630.0', '1660.0'))]"
      ]
     },
     "execution_count": 13,
     "metadata": {},
     "output_type": "execute_result"
    }
   ],
   "source": [
    "city1=city.copy()\n",
    "city_list=[]\n",
    "cc=city1.copy()\n",
    "city_list.append(cc)\n",
    "i=0\n",
    "while i < 28:\n",
    "    city1.append(city1[0])\n",
    "    city1.remove(city1[0])\n",
    "    cc=city1.copy()\n",
    "    city_list.append(cc)\n",
    "    i=i+1\n",
    "city=city_list[2]\n",
    "city  #initial route is from 3-4-5-5-6.....-29-30-1-2-3"
   ]
  },
  {
   "cell_type": "code",
   "execution_count": 14,
   "metadata": {},
   "outputs": [
    {
     "data": {
      "text/plain": [
       "25814.877362907795"
      ]
     },
     "execution_count": 14,
     "metadata": {},
     "output_type": "execute_result"
    }
   ],
   "source": [
    "def costroad(road):\n",
    "    cost = ((float(city[0][1][0])-float(city[road[0]][1][0]))**2+(float(city[0][1][1])-float(city[road[0]][1][1]))**2)**0.5\n",
    "    for i in range(len(road)-1):\n",
    "        cost = cost+((float(city[road[i+1]][1][0])-float(city[road[i]][1][0]))**2+(float(city[road[i+1]][1][1])-float(city[road[i]][1][1]))**2)**0.5\n",
    "    cost=cost+((float(city[road[-1]][1][0])-float(city[0][1][0]))**2+(float(city[-1][1][1])-float(city[0][1][1]))**2)**0.5\n",
    "    return(cost)  ##calculate the distance in our solution(we use the simple euclidean metric to calculate)\n",
    "costroad(eg)  ##calculate the dintance in our initial answer"
   ]
  },
  {
   "cell_type": "code",
   "execution_count": 15,
   "metadata": {},
   "outputs": [],
   "source": [
    "def tabusearch(diedaitimes,cacu_time,tabu_length,origin_times,costf,printf):\n",
    "    s1=datetime.datetime.now()  #get the start time\n",
    "    print(\"The program now is executing...\")\n",
    "    def pan_move(move_step,tabu_move):  #determine whether the new move is in the tabu list.\n",
    "        if move_step in tabu_move:\n",
    "            index = tabu_move.index(move_step)\n",
    "            return(True,index)\n",
    "        else:\n",
    "            return(False,0)\n",
    "    def pan_cost(cost,tabu_cost,t):  #determine wheter the move distance is smaller than those in tabu list\n",
    "        if cost<tabu_cost[t]:\n",
    "            return(True)\n",
    "        else:\n",
    "            return(False)  \n",
    "    def add_tabu(cost,move,tabu_cost,tabu_move,t):  #add new solutions into tabu list\n",
    "        tabu_cost.append(cost)\n",
    "        tabu_move.append(move)\n",
    "        if len(tabu_cost)>t:\n",
    "            del tabu_cost[0]\n",
    "        if len(tabu_move)>t:\n",
    "            del tabu_move[0]\n",
    "        return(tabu_cost,tabu_move)\n",
    "    def cacu(vec,t):    #calulate t times for the initial solution\n",
    "        vec_set = []\n",
    "        m_set = []\n",
    "        cost_set = []\n",
    "        h = []\n",
    "        for i in range(t):\n",
    "            v,m,c,h = move(vec,h)\n",
    "            vec_set.append(v)\n",
    "            m_set.append(m)\n",
    "            cost_set.append(c)\n",
    "        return(vec_set,m_set,cost_set)\n",
    "    def cacu_tiqu(v1,m1,c1):    #find the best solution in the \"cacu\" function\n",
    "        t = c1.index(min(c1))\n",
    "        v_max = v1[t]\n",
    "        m_max = m1[t]\n",
    "        c_max = c1[t]\n",
    "        return(v_max,m_max,c_max)\n",
    "    def move(vec,h):  #output the vetctor after the move\n",
    "        i = 1\n",
    "        while i==1:\n",
    "            m = random.sample(vec,2)\n",
    "            m.sort()\n",
    "            if m not in h:\n",
    "                h.append(m)\n",
    "                vec_copy = vec[:]\n",
    "                vec_copy[vec_copy.index(m[0])] = m[1]\n",
    "                vec_copy[vec_copy.index(m[1])] = m[0]\n",
    "                cost = costf(vec_copy)\n",
    "                i = 0\n",
    "                return(vec_copy,m,cost,h)   \n",
    "    finall_road = []\n",
    "    finall_cost = []\n",
    "    for t1 in range(origin_times):\n",
    "        road = [i for i in range(1,29)]\n",
    "        random.shuffle(road)\n",
    "        tabu_cost = []\n",
    "        tabu_move = []\n",
    "        for t in range(diedaitimes):\n",
    "            i = 0\n",
    "            while i==0:\n",
    "                v1,m1,c1 = cacu(road,cacu_time)\n",
    "                v_m,m_m,c_m = cacu_tiqu(v1,m1,c1)\n",
    "                key1 = pan_move(m_m,tabu_move)\n",
    "                if key1[0]:\n",
    "                    if pan_cost(c_m,tabu_cost,key1[1]):\n",
    "                        road = v_m\n",
    "                        finall_road.append(road)\n",
    "                        finall_cost.append(c_m)\n",
    "                        tabu_cost,tabu_move = add_tabu(c_m,m_m,tabu_cost,tabu_move,tabu_length)\n",
    "                        i=1\n",
    "                    else:\n",
    "                        v1.remove(v_m)\n",
    "                        m1.remove(m_m)\n",
    "                        c1.remove(c_m)\n",
    "                        if len(v1)==0:\n",
    "                            i = 1\n",
    "                else:\n",
    "                    tabu_cost,tabu_move = add_tabu(c_m,m_m,tabu_cost,tabu_move,tabu_length)\n",
    "                    road = v_m\n",
    "                    finall_road.append(road)\n",
    "                    finall_cost.append(c_m)\n",
    "                    i = 1\n",
    "    index = finall_cost.index(min(finall_cost))\n",
    "    s2 = datetime.datetime.now()\n",
    "    print(\"Successfully execute!,the program has executed for \"+str((s2-s1).seconds)+\" seconds!\")\n",
    "    return(min(finall_cost),printf(finall_road[index]))\n"
   ]
  },
  {
   "cell_type": "code",
   "execution_count": 16,
   "metadata": {},
   "outputs": [
    {
     "name": "stdout",
     "output_type": "stream",
     "text": [
      "The program now is executing...\n",
      "Successfully execute!,the program has executed for 2 seconds!\n"
     ]
    },
    {
     "data": {
      "text/plain": [
       "(14084.852954355303,\n",
       " [[('3', ('40.0', '2090.0')), ('26', ('490.0', '2130.0'))],\n",
       "  [('26', ('490.0', '2130.0')), ('9', ('790.0', '2260.0'))],\n",
       "  [('9', ('790.0', '2260.0')), ('5', ('750.0', '2030.0'))],\n",
       "  [('5', ('750.0', '2030.0')), ('12', ('1170.0', '2300.0'))],\n",
       "  [('12', ('1170.0', '2300.0')), ('8', ('1490.0', '1630.0'))],\n",
       "  [('8', ('1490.0', '1630.0')), ('16', ('1280.0', '1200.0'))],\n",
       "  [('16', ('1280.0', '1200.0')), ('23', ('1840.0', '1240.0'))],\n",
       "  [('23', ('1840.0', '1240.0')), ('27', ('1460.0', '1420.0'))],\n",
       "  [('27', ('1460.0', '1420.0')), ('4', ('750.0', '1100.0'))],\n",
       "  [('4', ('750.0', '1100.0')), ('13', ('970.0', '1340.0'))],\n",
       "  [('13', ('970.0', '1340.0')), ('15', ('750.0', '900.0'))],\n",
       "  [('15', ('750.0', '900.0')), ('11', ('840.0', '550.0'))],\n",
       "  [('11', ('840.0', '550.0')), ('14', ('510.0', '700.0'))],\n",
       "  [('14', ('510.0', '700.0')), ('18', ('460.0', '860.0'))],\n",
       "  [('18', ('460.0', '860.0')), ('10', ('710.0', '1310.0'))],\n",
       "  [('10', ('710.0', '1310.0')), ('2', ('630.0', '1660.0'))],\n",
       "  [('2', ('630.0', '1660.0')), ('21', ('830.0', '1770.0'))],\n",
       "  [('21', ('830.0', '1770.0')), ('6', ('1030.0', '2070.0'))],\n",
       "  [('6', ('1030.0', '2070.0')), ('28', ('1260.0', '1910.0'))],\n",
       "  [('28', ('1260.0', '1910.0')), ('24', ('1260.0', '1500.0'))],\n",
       "  [('24', ('1260.0', '1500.0')), ('1', ('1150.0', '1760.0'))],\n",
       "  [('1', ('1150.0', '1760.0')), ('20', ('590.0', '1390.0'))],\n",
       "  [('20', ('590.0', '1390.0')), ('17', ('230.0', '590.0'))],\n",
       "  [('17', ('230.0', '590.0')), ('22', ('490.0', '500.0'))],\n",
       "  [('22', ('490.0', '500.0')), ('7', ('1650.0', '650.0'))],\n",
       "  [('7', ('1650.0', '650.0')), ('25', ('1280.0', '790.0'))],\n",
       "  [('25', ('1280.0', '790.0')), ('19', ('1040.0', '950.0'))],\n",
       "  [('19', ('1040.0', '950.0')), ('29', ('360.0', '1980.0'))],\n",
       "  [('29', ('360.0', '1980.0')), ('3', ('40.0', '2090.0'))]])"
      ]
     },
     "execution_count": 16,
     "metadata": {},
     "output_type": "execute_result"
    }
   ],
   "source": [
    "tabusearch(diedaitimes=30,cacu_time=30,tabu_length=10,origin_times=30,costf=costroad,printf=printtravel)"
   ]
  }
 ],
 "metadata": {
  "kernelspec": {
   "display_name": "Python 3",
   "language": "python",
   "name": "python3"
  },
  "language_info": {
   "codemirror_mode": {
    "name": "ipython",
    "version": 3
   },
   "file_extension": ".py",
   "mimetype": "text/x-python",
   "name": "python",
   "nbconvert_exporter": "python",
   "pygments_lexer": "ipython3",
   "version": "3.7.3"
  }
 },
 "nbformat": 4,
 "nbformat_minor": 4
}
